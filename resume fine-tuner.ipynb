{
 "cells": [
  {
   "cell_type": "markdown",
   "id": "05335cd9-b5bf-40f4-8498-822722792b12",
   "metadata": {},
   "source": [
    "<img src=\"./images/build_ai_job_application_helper_app.png\" width=\"800\" />"
   ]
  },
  {
   "cell_type": "markdown",
   "id": "53d83993-ade3-4b26-b181-66f9c51c8e44",
   "metadata": {},
   "source": [
    "globalnerdy.com/job-app"
   ]
  },
  {
   "cell_type": "markdown",
   "id": "e8014e54-3b0b-49aa-9d50-69fd30b23b6e",
   "metadata": {},
   "source": [
    "# Welcome to _Build an AI job application helper app_!\n",
    "\n",
    "This Jupyter Notebook is from [Tampa Bay Artificial Intelligence Meetup’s](https://www.meetup.com/tampa-artificial-intelligence-meetup/) exercise from [our session on Monday, March 17, 2025](https://www.meetup.com/tampa-artificial-intelligence-meetup/events/306353685/?eventOrigin=group_upcoming_events), which took place at [Embarc Collective](https://embarccollective.com/) in [Tampa](https://en.wikipedia.org/wiki/Tampa,_Florida). It was organized by [Joey de Villa](https://www.linkedin.com/in/joeydevilla/) and [Anitra Pavka](https://www.linkedin.com/in/anitrapavka/).\n",
    "\n",
    "In that session, we demonstrated how to build an application to help people with the job search process. Feel free to use it in your job search, and feel free to modify it to suit your job search needs!"
   ]
  },
  {
   "cell_type": "markdown",
   "id": "53b3b73e-0154-4c94-93f4-d48ed7bc7bf7",
   "metadata": {},
   "source": [
    "## What is this “Jupyter Notebook” thing?\n",
    "\n",
    "<img src=\"./images/jupyter_logo.png\" width=\"250\" />\n",
    "\n",
    "A _Jupyter Notebook_ is a document that combines two kinds of information in one place:\n",
    "\n",
    "- **Content:** Text, graphics, and any other media that you can put into a web page.\n",
    "- **Code:** Code that you can not only run, but edit too!\n",
    "\n",
    "I like to think of Jupyter Notebooks as both:\n",
    "\n",
    "- Code that comes with a lot of documentation built in\n",
    "- Literature that you can also execute\n",
    "\n",
    "I often use Jupyter Notebooks in presentations, treating them as slide decks that also contain the code for my demos. I can give copies away, so that people who see my presentations can see my slides and run my code long after the presentation’s over.\n",
    "\n",
    "This very document you’re reading is a Jupyter Notebook. It’s made up of cells, and you should think of it as being like a column in a spreadsheet — a vertical list of cells:\n",
    "\n",
    "<img src=\"./images/jupyter_notebox_as_a_spreadsheet_column.png\" width=\"400\" />\n",
    "\n",
    "Each cell in a Jupyter Notebook can contain one of two kinds of data:\n",
    "\n",
    "- **Markdown:** Content, such as text, graphics, and other media that you can put into a web page, written in Markdown, a way of formatting text that’s simpler than HTML.\n",
    "- **Code:** Usually Python, but Jupyter Notebook supports other programming languages.\n",
    "\n",
    "Each cell can be _executed_ or _run_, in the sense of running a program, where:\n",
    "\n",
    "- Running a **Markdown** cell renders the content of that cell, and\n",
    "- Running a **Code** cell executes the content of that cell.\n",
    "\n",
    "By using a Jupyter Notebook, I can give you an application that has all sorts of notes embedded in it, or if you prefer, notes that have an application embedded in them. Either way, I hope makes it easier for you to use and customize to suit your own needs."
   ]
  },
  {
   "attachments": {},
   "cell_type": "markdown",
   "id": "6c3ae463-b089-43db-8144-b56311422132",
   "metadata": {},
   "source": [
    "## The job-seeker’s challenge\n",
    "\n",
    "<img src=\"./images/you_know_what_this_is_like.png\" width=\"600\" />\n",
    "\n",
    "According to the Silicon Valley-based career guidance service Pathrise, [job seekers who sent 20+ job applications every week got more interviews and landed a job sooner](https://www.pathrise.com/guides/how-long-does-it-take-to-find-a-job/).\n",
    "\n",
    "That’s a lot of work, especially since the general advice is to [customize your resume for every job application](https://resume.io/blog/customize-resume-for-each-application). Wouldn’t it be nice if there were a way to get some help customizing your resume for every job application you have to fill out?\n",
    "\n",
    "This application sets out to solve that problem. It uses an AI — more specifically, a large language model (LLM) — to perform the repetitive task of customizing your resume for a specific job description.\n",
    "\n",
    "### How it works\n",
    "\n",
    "The _incredibly scientific_ diagram below illustrates how the application will work:\n",
    "\n",
    "<img src=\"./images/how_it_works.png\" width=\"1200\" alt=\"Playful diagram with arrows leading a job description and resume to Jupyter Notebook and Python, and from there, and arrow leading to a number of LLMs, and from there an arrow leading to a spakling custom resume with a cartoon unicon 'dabbing' in front of it.\" />\n",
    "\n",
    "This application takes two inputs:\n",
    "\n",
    "1. **The job description for the job you’re applying for.** You’ll copy this from LinkedIn or whatever site had the job description and paste it into the application.\n",
    "2. **Your resume, in Markdown format.** Putting it in Markdown format is the simplest way to convey formatting such as headings, bold and italics, links, and so on to the LLM.\n",
    "\n",
    "The application will use these inputs to construct a prompt, which it will send to the LLM. It will receive the LLM’s response, which it will then save as a file to your computer"
   ]
  },
  {
   "cell_type": "markdown",
   "id": "7387f979-58eb-416c-bed3-3516f1f839c1",
   "metadata": {},
   "source": [
    "## Setup\n",
    "\n",
    "### An OpenAI account\n",
    "This notebook \n",
    "Because getting everyone in this meetup to set up and OpenAI API account and an API key would probably take all the time allotted for the meetup, we’re going to keep things simple: **in this meetup, you’ll use Joey’s OpenAI account and an API key that will be active only during the meetup.** In order to run this application after the meetup, you’ll need the following:\n",
    "\n",
    "- **An OpenAI account.** You can sign up for one at the [OpenAI Platform page](https://platform.openai.com/).\n",
    "- **A secret key.** Log into OpenAI and visit the [API keys page](https://platform.openai.com/api-keys), and create a new secret key by clicking the **Create New Secret Key** button.\n",
    "- **Some money in your OpenAI credit balance.** As it says on the [Billing page](https://platform.openai.com/settings/organization/billing/overview), “When your credit balance reaches $0, your API requests will stop working.” Fortunately, one or two US dollars should be enough to cover running this application many, many times.\n",
    "\n",
    "Once you have created a secret key, copy that key. Open the `.env` file located in the same directory as this notebook and look for this line:\n",
    "\n",
    "```\n",
    "OPENAI_API_KEY = replace_this_with_your_secret_key\n",
    "```\n",
    "\n",
    "> Filenames that begin with `.` (period) characters are system files, and for your safety, macOS hides them. You can make them visible by using the ⌘-shift-. keyboard shortcut (that is, hold down command, shift, and the `.` keys at the same time) when looking at a Finder window or when opening files.\n",
    "\n",
    "Replace `replace_this_with_your_secret_key` with your secret key and save the file to the directory where you will create the Jupyter notebook for this demo. By storing the API key in a .env file (and making sure that the .env is _not_ added to source control), you avoid “hard-coding” the API key into your application, which makes it more likely that someone unauthorized will discover it.\n",
    "\n",
    "The process is similar for other LLMs, such as Claude, Deepseek, and Writer."
   ]
  },
  {
   "cell_type": "markdown",
   "id": "c4526797",
   "metadata": {},
   "source": [
    "\n",
    "### Install the Necessary Packages\n",
    "\n",
    "There’s no need to reinvent the wheel when we Python has a large collection of packages to take care of things so we don’t have to code them ourselves. Let’s install the following packages:\n",
    "\n",
    "- `dotenv`: Provides functions for reading `.env` files to create environment variables. We’ll use this to get the API keys so that the application can talk to LLMs.\n",
    "- `markdown-pdf`: Converts Markdown documents into PDF documents. We’ll use this to generate the final copy of the customized résumé.\n",
    "- `openai`: Provides functionality for communicating with OpenAI’s AI models.\n",
    "- `pyperclip`: Gives our application access to the clipboard.\n",
    "\n",
    "The command below installs these packages, which are listed in the file `requirements.txt`. If it doesn’t work, try replacing `pip` with `pip3`:"
   ]
  },
  {
   "cell_type": "code",
   "execution_count": null,
   "id": "9bf961cd-9644-4443-bd6c-94e51bb27f0e",
   "metadata": {},
   "outputs": [],
   "source": [
    "! pip install -r requirements.txt"
   ]
  },
  {
   "cell_type": "markdown",
   "id": "2665cf27-9bad-44fd-b7b9-65f9f8596b0d",
   "metadata": {},
   "source": [
    "## Create an OpenAI client object\n",
    "\n",
    "The first step in building an OpenAI-powered application is to create an instance of the OpenAI client class. We’ll call it `client`, and it will enable access to OpenAI’s various APIs, including the one we’ll use: GPT."
   ]
  },
  {
   "cell_type": "code",
   "execution_count": 3,
   "id": "7472d7e5-5d9e-45db-9cc8-5801e30c5374",
   "metadata": {},
   "outputs": [],
   "source": [
    "import os\n",
    "from dotenv import load_dotenv\n",
    "from markdown_pdf import MarkdownPdf\n",
    "from markdown_pdf import Section\n",
    "from openai import OpenAI\n",
    "\n",
    "# When called without arguments, OpenAI will try to get\n",
    "# the API key from the OPENAI_API_KEY environment variable.\n",
    "load_dotenv()\n",
    "OPENAI_API_KEY = os.getenv(\"OPENAI_API_KEY\")\n",
    "client = OpenAI()"
   ]
  },
  {
   "cell_type": "markdown",
   "id": "581edcbc",
   "metadata": {},
   "source": [
    "## Create a completion function\n",
    "\n",
    "Once we’ve created an OpenAI client object, let’s use it to create a _completion_. In the context of an LLM, a completion is the text that the model generates in response to a given prompt. It's essentially the output that the AI produces to “complete” the input it has been given.\n",
    "\n",
    "In order to create a completion, we’ll use the `OpenAI` class’ `chat.completions.create()` method and provide it with the following information:\n",
    "\n",
    "- **Model:** For the purposes of the meetup, we’ll use the **GPT-4o mini** model, a smaller, faster model that costs less to run. After the meetup, and once you’re using your own OpenAI account, you can change this out for a more capable (but more expensive) model.\n",
    "- **Temperature:** A parameter that controls the randomness or predictability of the model's outputs. It's named after the temperature parameter in statistical physics, where higher temperatures lead to more disorder. It’s essentially a \"creativity dial\" that lets developers or users control how much the LLM sticks to the most likely responses versus exploring more varied possibilities. In most LLMs, this is a value between 0 and 2, and the default value is 1.\n",
    "- **Messages:** A list of messages that make up the exchange or “conversation” with the LLM. Each message is a dictionary with two keys:\n",
    "  - `role`: Defines the “speaker” of the message. It's essentially a label that identifies the source and purpose of each message in the exchange. It can be one of these three values:\n",
    "    - `\"system\"`: The initial instructions or context given to the model. Sets the overall behavior, personality, and constraints for the LLM. Establishes rules and guidelines for how the model should respond. Often includes information about the model's capabilities and limitations. Not directly visible to users in most interfaces.\n",
    "    - `\"user\"`: Represents the person interacting with the LLM. Provides queries, instructions, or content for the model to respond to. Drives the direction of the conversation.\n",
    "    - `\"assistant\"`: Represents the LLM's responses. Contains the generated completions from the model. Follows the guidelines established in the system role, and responds directly to user inputs.\n",
    "\n",
    "In our test completion, let’s ask what the fastest bird in the world is."
   ]
  },
  {
   "cell_type": "code",
   "execution_count": 4,
   "id": "9a8ad8bc",
   "metadata": {},
   "outputs": [],
   "source": [
    "def create_completion(\n",
    "    system_prompt,\n",
    "    user_prompt,\n",
    "    model=\"gpt-4o-mini\",\n",
    "    temperature=1.0\n",
    "):\n",
    "    completion = client.chat.completions.create(\n",
    "        model=model,\n",
    "        temperature=temperature,\n",
    "        messages=[\n",
    "            {\n",
    "                \"role\": \"system\",\n",
    "                \"content\": system_prompt,\n",
    "            },\n",
    "            {\n",
    "                \"role\": \"user\",\n",
    "                \"content\": user_prompt,\n",
    "            },\n",
    "        ],\n",
    "    )\n",
    "    return completion"
   ]
  },
  {
   "cell_type": "code",
   "execution_count": 7,
   "id": "abed8b4e",
   "metadata": {},
   "outputs": [],
   "source": [
    "test_completion = create_completion(\n",
    "    \"You are a helpful assistant\",\n",
    "    \"What’s the fastest fish in the world?\",\n",
    ")"
   ]
  },
  {
   "cell_type": "markdown",
   "id": "c6b57f53",
   "metadata": {},
   "source": [
    "Now that we have the completion, let’s see what it contains."
   ]
  },
  {
   "cell_type": "code",
   "execution_count": 8,
   "id": "32e2a59a",
   "metadata": {},
   "outputs": [
    {
     "name": "stdout",
     "output_type": "stream",
     "text": [
      "ChatCompletion(id='chatcmpl-BeKvUYa8juHOnpPwrYRDw6tgvLit4', choices=[Choice(finish_reason='stop', index=0, logprobs=None, message=ChatCompletionMessage(content='The fastest fish in the world is the black marlin (Istiompax indica). It is capable of swimming at speeds up to 82 miles per hour (132 kilometers per hour). Other fast fish include the sailfish and the swordfish, but the black marlin holds the title for the fastest.', role='assistant', function_call=None, tool_calls=None, refusal=None, annotations=[]))], created=1748953260, model='gpt-4o-mini-2024-07-18', object='chat.completion', service_tier='default', system_fingerprint='fp_34a54ae93c', usage=CompletionUsage(completion_tokens=62, prompt_tokens=25, total_tokens=87, prompt_tokens_details={'cached_tokens': 0, 'audio_tokens': 0}, completion_tokens_details={'reasoning_tokens': 0, 'audio_tokens': 0, 'accepted_prediction_tokens': 0, 'rejected_prediction_tokens': 0}))\n"
     ]
    }
   ],
   "source": [
    "print(test_completion)"
   ]
  },
  {
   "cell_type": "markdown",
   "id": "097a11fa",
   "metadata": {},
   "source": [
    "That’s a lot. Let’s extract the part we _really_ care about: the answer."
   ]
  },
  {
   "cell_type": "code",
   "execution_count": 14,
   "id": "e0fadc16-4332-4cab-9748-80014a7ff455",
   "metadata": {},
   "outputs": [],
   "source": [
    "def create_completion(\n",
    "    system_prompt,\n",
    "    user_prompt,\n",
    "    model=\"gpt-4o-mini\",\n",
    "    temperature=1.0\n",
    "):\n",
    "    completion = client.chat.completions.create(\n",
    "        model=model,\n",
    "        temperature=temperature,\n",
    "        messages=[\n",
    "            {\n",
    "                \"role\": \"system\",\n",
    "                \"content\": system_prompt,\n",
    "            },\n",
    "            {\n",
    "                \"role\": \"user\",\n",
    "                \"content\": user_prompt,\n",
    "            },\n",
    "        ],\n",
    "    )\n",
    "    return completion.choices[0].message.content"
   ]
  },
  {
   "cell_type": "code",
   "execution_count": 15,
   "id": "bed4bdb9",
   "metadata": {},
   "outputs": [
    {
     "name": "stdout",
     "output_type": "stream",
     "text": [
      "The fastest bird in the world is the peregrine falcon (Falco peregrinus). When in a dive, known as a stoop, it can reach speeds of over 240 miles per hour (386 kilometers per hour). This incredible speed makes it not only the fastest bird but also the fastest animal on the planet when considering speed attained during a dive.\n"
     ]
    }
   ],
   "source": [
    "test_completion = create_completion(\n",
    "    \"You are a helpful assistant\",\n",
    "    \"What’s the fastest bird in the world?\",\n",
    ")\n",
    "print(test_completion)"
   ]
  },
  {
   "cell_type": "markdown",
   "id": "7ad76338",
   "metadata": {},
   "source": [
    "Now that we have a working client to communicate with the LLM, let’s build the rest of the program."
   ]
  },
  {
   "cell_type": "markdown",
   "id": "52f2c6ed-41b7-410a-833a-575c1519390a",
   "metadata": {},
   "source": [
    "## Define the base résumé\n",
    "\n",
    "The application needs a “base résumé.” It will compare the base résumé against the job description in order to generate a customized résumé.\n",
    "\n",
    "The base résumé should be in Markdown format, which allows us to specify formatting such as headings, bold and italics, bullet points, and even hyperlinks. This formatting will be useful when converting the résumé into a PDF or Microsoft Word file.\n",
    "\n",
    "The base résumé will be stored in a constant called `BASE_RESUME`.\n",
    "\n",
    "At the meetup, we used Joey’s résumé. Replace it with your own!"
   ]
  },
  {
   "cell_type": "code",
   "execution_count": 16,
   "id": "9a656562-e03d-41d7-96d2-8044461ab137",
   "metadata": {},
   "outputs": [],
   "source": [
    "BASE_RESUME = \"\"\"\n",
    "# Joey de Villa\n",
    "\n",
    "[joey@joeydevilla.com](mailto:joey@joeydevilla.com) • 813.330.9053 • Tampa, Florida \n",
    "\n",
    "- **Certifications:** CSM, A-CSM, CSD, CSPO from Scrum Alliance \n",
    "- **Education:** B.Sc. Computer Science, Queen’s University, Kingston, Canada \n",
    "- **Primary programming languages:** Kotlin, Python, Swift\n",
    "- **Technology blog:** globalnerdy.com \n",
    "- **LinkedIn:** linkedin.com/in/joeydevilla\n",
    "- **GitHub:** github.com/AccordionGuy/\n",
    "\n",
    "\n",
    "## Consultant @ Atypical Consulting, LLC\n",
    "July 2020 - present • Tampa, FL \n",
    "\n",
    "- **Developer Relations at [Writer](https://writer.com/) (San Francisco), August 2024 - present:**\n",
    "    - Wrote documentation for Writer’s AI platform, including:\n",
    "        - Performing code reviews of developer toolkits, primarily writer-python\n",
    "        - Developer documentation for their Palmyra LLM APIs\n",
    "        - Developer cookbooks featuring code examples that demonstrate applications of their APIs\n",
    "        - Tech editing articles on the Writer Engineering blog\n",
    "- **Python/AI Instructor at [Computer Coach Training Center](https://www.computercoach.com/) (Tampa), July 2020 - present:**\n",
    "    - Designed and taught these courses::\n",
    "        - Intro to Python and AI Development (40-hour online course, July - August, 2024)\n",
    "        - Intro to AI Application Development (6-hour online course, June 11 - 13, 2024)\n",
    "        - Intro to Python (3 40-hour online courses, July 2020 /  September 2022 / November 2023)\n",
    "        - Intro to JavaScript/React (40-hour online course, starting September 2020)\n",
    "- **Developer Relations Consultant at [Unified.to](http://unified.to/) (Toronto, Canada), April - June 2024:**\n",
    "    - Co-developed Unified.to’s go-to-market strategy for their Unified API for AI/LLM services.\n",
    "    - Worked with the product owner on a strategy for developer outreach and started executing it.\n",
    "    - Co-wrote their white paper, [_The State of SaaS APIs 2024_](https://unified.to/blog/the_state_of_saas_apis_2024).\n",
    "    - Revised their documentation, which while complete, needed more explanatory text and examples.\n",
    "    - Created articles for their blog and videos based on those articles for their YouTube channel. These articles and videos covered Unified.to’s unified API technology and features, and developing applications using external APIs.\n",
    "    - Doubled Unified.to’s LinkedIn following in two months.\n",
    "    - Wrote a proposal for a presentation that was accepted for Nordic APIs Platform Summit 2024 in Stockholm.\n",
    "- **Independent Technical Presenter/Guest Speaker:**\n",
    "    - [_Make Smarter AI Apps with RAG_](https://www.youtube.com/watch?v=F2dm0ufm7ZA) @ Civo Navigate Local Tampa 2024, April 16, 2024\n",
    "    - [_xz Made EZ_](https://www.youtube.com/watch?v=tIbWFC1LauY) @ BSides Tampa, April 6, 2024\n",
    "    - [_AI: How to Jump In Right Away_](https://www.youtube.com/watch?v=eIErTksBrdo) @ Austin Forum on Technology and Society, April 2, 2024 (online)\n",
    "    - [_You’re Not Too Late to the AI Party_](https://www.youtube.com/watch?v=xjGuNY6bmCs) @ Civo Navigate North America 2024, February 20, 2024 (Austin, Texas)\n",
    "    - [_How Computers Work “Under the Hood”_](https://www.youtube.com/watch?v=B9WyrVabbeo) @ Tampa Devs, November 15, 2023\n",
    "- **Publisher/editor/author of the technology weblog Global Nerdy, August 2006 - present:**\n",
    "    - Creator of the Tampa Bay Tech Events List, a weekly feature of Global Nerdy that presents the upcoming week’s technology, entrepreneur, and “nerd” events taking place in the Tampa Bay area. The list is generated using my Python script that scrapes Meetup and local event sites.\n",
    "\n",
    "\n",
    "## Author / Technical Editor / Presenter • Kodeco (formerly RayWenderlich.com)\n",
    "July 2017 - present • Tampa, FL \n",
    "\n",
    "- Author of the [_Python for AI: A Crash Course_](https://www.kodeco.com/ai/paths/python) lesson series.\n",
    "- Co-author of the book [_iOS Apprentice, 8th edition_](https://www.kodeco.com/books/ios-apprentice/v8.3). Updated two major sections of the book from UIKit to SwiftUI and rewrote two of the four apps presented in the book to reflect the new material. \n",
    "- Article author:\n",
    "    - [_Layoff to Liftoff: Surviving Downsizing in the Tech Industry](https://www.kodeco.com/44653678-layoff-to-liftoff-surviving-downsizing-in-the-tech-industry)\n",
    "    - [_Jetpack Compose Tutorial for Android: Getting Started_](https://www.kodeco.com/40153513-jetpack-compose-tutorial-for-android-getting-started)\n",
    "    - [_Beginning Data Science with Jupyter Notebook and Kotlin_](https://www.kodeco.com/27470499-beginning-data-science-with-jupyter-notebook-and-kotlin)\n",
    "    - [_Create Your Own Kotlin Playground (and Get a Data Science Head Start) with Jupyter Notebook_](https://www.kodeco.com/27470305-create-your-own-kotlin-playground-and-get-a-data-science-head-start-with-jupyter-notebook)\n",
    "    - [_Kotlin Cheat Sheet and Quick Reference_](https://www.kodeco.com/6362971-kotlin-cheat-sheet-and-quick-reference)\n",
    "    - [_What’s New in Kotlin 1.3_](https://www.kodeco.com/3871338-what-s-new-in-kotlin-1-3)\n",
    "    - [_Augmented Reality in Android with Google’s Face API_](https://www.kodeco.com/523-augmented-reality-in-android-with-google-s-face-api)\n",
    "- Author and presenter of [_Beginning ARKit_](https://www.kodeco.com/737368-beginning-arkit), a video course covering augmented reality app development for iOS devices. Designed and developed 4 original apps for this course.\n",
    "- Technical editor for ARKit by Tutorials.\n",
    "- Presenter: Highest-rated speaker at the RWDevCon 2018 conference with 2 presentations on ARKit: a [two-hour introductory presentation](https://www.youtube.com/watch?v=0bea2V8Jrw4), and an [in-depth four-hour workshop](https://youtu.be/_sjyaDhKk2Q).\n",
    "\n",
    "\n",
    "## Developer Advocate @ [Okta](https://www.okta.com/)\n",
    "October 2020 - April 2024 • Working remotely from Tampa, FL\n",
    "\n",
    "- Led the effort and worked with product owners to update Okta’s Auth0 mobile quickstart kits for .NET, iOS, and Android, including architecture, visual interface, and documentation.\n",
    "- Created [articles](https://auth0.com/blog/authors/joey-devilla/) and videos covering Auth0, OAuth2, OIDC, security, and general programming for the Auth0 Developer Blog and the OktaDev YouTube channel, with a primary focus on mobile developers (iOS/Swift and Android/Kotlin), and a secondary focus on Python developers.\n",
    "- Grew mobile article readership from nearly zero to over 20K viewers per month.\n",
    "- Commissioned, reviewed, edited, and in some cases, rewrote the Auth0 Developer Blog’s first mobile development articles by guest authors, covering Flutter and React Native.\n",
    "- Refreshed native mobile (Android and iOS) code samples that hadn’t been updated in 2 years, and brought them up to date by incorporating the newer native UI frameworks, SwiftUI and Jetpack Compose.\n",
    "- Worked with the team behind the 2023 edition of Okta’s annual conference, Oktane, to create content for the conference’s mobile app, and wrote both [decision-maker-facing](https://www.okta.com/blog/2023/10/adding-passkeys-to-your-apps-with-okta-cic-powered-by-auth0/) and [developer-facing articles](https://auth0.com/blog/activate-passkeys-let-users-log-in-without-password/) for Auth0’s newly-announced support for passkeys. Demonstrated passkeys and other Auth0 features at the conference.\n",
    "- Represented Okta at conferences, most notably PyCon US 2022 and 2023 and ng-conf 2022.\n",
    "\n",
    "\n",
    "## Senior Mobile Developer @ [Lilypad](https://lilypad.co/)\n",
    "September 2019 - April 2020 • Tampa, FL\n",
    "\n",
    "- Cross-platform mobile developer for Lilypad, a sales/CRM app for the beverage alcohol industry.\n",
    "- Worked with the product owner and back-end team to deliver major upgrades and bug fixes to the Android version, bringing it to feature, UI, and performance parity (60% speed improvement on some features) with the iOS version.\n",
    "- Reduced Android version bug count by 50% in my first two months.\n",
    "- Took charge of internal developer documentation. Devoted 20% of development time to writing much-needed internal documentation of the mobile app, refactoring, and upgrading the codebase to a more current version of JavaScript.\n",
    "- Established and documented a coding standards/style guide.\n",
    "\n",
    "\n",
    "## Lead Product Manager • [Sourcetoad](https://sourcetoad.com/)\n",
    "July 2017 - June 2019 • Tampa, FL\n",
    "\n",
    "- Worked with clients to architect custom web and mobile software for their businesses.\n",
    "- Gathered requirements, and specified the functionality, workflows, user interfaces, and basic data schemas for the following customer software applications: \n",
    "    - Note-taking web application for pharmacists that reconciles patient’s medications and generates physician- and patient-facing recommendations.\n",
    "    - App where customers submit prescriptions and participating pharmacies respond with offers and prices for the submitted prescriptions.\n",
    "    - Investor-facing “Crunchbase for pharma” web application that tracks companies, conferences, and employees in the pharmacology and healthcare industries.\n",
    "    - iPad-based self-serve kiosk for shipping via FedEx, UPS, or USPS.\n",
    "    - “Reverse Angie’s List” mobile app for general contractors to rate their customers on their interactions and payments, and look up the ratings of prospective customers.\n",
    "    - Mobile app for the construction industry that tracks tickets for the delivery and removal of construction material from sites. \n",
    "- Participated in sales meetings, showcasing the company’s application development capabilities and strengths to prospective clients, leading to sales, including the projects listed above. \n",
    "- Delivered technical talks at conferences and meetups, including BarCamp Tampa Bay, Tampa Hospitality Hackathon, and DevFest Florida. \n",
    "- Grew the company’s Twitter profile 10x, and wrote several articles for the company blog.\n",
    "- Helped develop the company’s guidelines for interacting with clients.\n",
    "\n",
    "\n",
    "## Technology Evangelist • [Smartrac](https://rfid.averydennison.com/en/home.html)\n",
    "October 2016 - April 2017 • Columbia, MD — working remotely from Tampa\n",
    "\n",
    "- Promoted Smartrac’s Smart Cosmos RFID platform to technical and non-technical audiences and provided technical information to developers who built solutions that integrated with the Smart Cosmos. \n",
    "- Wrote documentation and code examples for Smart Cosmos Objects, which connected real-world objects with RFID tags to their cloud-based data representations.\n",
    "- Presented the Lifecycles solution at the booth at NRF’s “Retail’s Big Show 2017” conference. Brought in a major prospective customer ($100M revenue in 2016) for a meeting.\n",
    "- Gathered requirements and wrote spec for a system for embedding RFID tags in luxury goods to track them through their lifetimes and prevent counterfeiting.\n",
    "\n",
    "\n",
    "## Partner Technical Analyst / Evangelist • GSG (now Sakon)\n",
    "March 2014 - September 2016 • Concord, MA — working remotely from Tampa\n",
    "\n",
    "- Communications and technical specialist on IBM’s Network Infrastructure Cost Optimization (NICO) team, creating all their sales and marketing materials. Wrote, produced, and [narrated the official NICO promotional video](https://www.youtube.com/watch?v=2stdDHE0BNs).\n",
    "- Product owner for the NICO Quick Assess web application for performing quick evaluations of an enterprise’s network infrastructure. \n",
    "- Created sales and marketing materials for GSG and its channel partners: presentations, case studies, white papers, sell sheets, videos, and even mobile applications. \n",
    "- Created documentation and training material for GSG’s SaaS applications, such as written documentation, demo scripts, and training videos. \n",
    "- Oversaw the website redesign, posted articles on the company blog, created promotional and informational videos on the company’s YouTube channel.\n",
    "- Grew the company’s following on LinkedIn by 5x and Twitter by 10x.\n",
    "\n",
    "\n",
    "## Chief Technology Officer • Comprehensive Technology Solutions\n",
    "September 2012 - October 2013 • Toronto, Canada\n",
    "\n",
    "- Ran the de facto managed mobility services department of Rogers Communications (the Canadian equivalent of Time-Warner), filling both CTO and marketing roles.\n",
    "- Architected “BYOD in a Box” and “CL in a Box”, applications for small-/medium-sized businesses manage their BYOD and corporate-liable mobile devices.\n",
    "- Performed mobile needs assessments for Rogers’ medium/large corporate customers.\n",
    "- Helped customers with 1,000+ employees move them from corporate-liable to individual-liable devices. \n",
    "- Created Rogers-branded customer-facing marketing documents, including a white paper listing tips for businesses who want to implement a BYOD program, a guide to help enterprises create mobile device policies, and “sell sheets” for various Rogers services.\n",
    "\n",
    "\n",
    "## Platform Evangelist • Shopify \n",
    "May 2011 - May 2012 • Ottawa and Toronto, Canada\n",
    "Tools: Ruby on Rails\n",
    "\n",
    "- Wrote the documentation and sample code (Ruby/JavaScript/CoffeeScript) for Shopify’s developer API, as well as documentation for store theme designers. Edited and wrote technical articles for Shopify's technology blog, whose primary audience was developers and designers.\n",
    "- Managed a $1 million fund used to encourage developers to build apps for the Shopify platform.\n",
    "- Represented Shopify at conferences, including BarCamp Tour 2011 in 9 U.S. cities.\n",
    "- Managed the Twitter account and doubled the company’s followers.\n",
    "\n",
    "\n",
    "## Developer Evangelist • Microsoft Canada \n",
    "October 2008 - April 2011 • Toronto, Canada\n",
    "Tools: Visual Studio, ASP.NET MVC, SharePoint, Windows Mobile 6 / Windows Phone 7, XNA\n",
    "\n",
    "- Wrote content and made presentations on Microsoft’s web and mobile technologies and evangelizing to “unfriendly” audiences. “Won over” developers and technology influencers who originally had strong negative opinions of Microsoft.\n",
    "- Led the “breadth program” in the months leading up to Windows Phone 7’s release. Brought development tools, devices, documentation, and training to developers, coordinated the development of early apps by Canadian developers to pre-seed the Windows Phone app store, and organized Windows Phone developer events.\n",
    "- Edited and wrote the lead articles for the Canadian edition of MSDN Flash, Microsoft's developer newsletter emailed every two weeks to 50,000 subscribers.\n",
    "- Microsoft Canada’s most prolific blogger, writing almost 750 articles for Microsoft’s blog, Canadian Developer Connection. \n",
    "- Traveled across Canada, giving presentations and tutorials to developer, technologist, and student audiences on developing applications using Visual Studio, C# and Visual Basic, Windows 7, ASP.NET MVC, Windows Mobile, Windows Phone, and Xbox 360 as well as development techniques (test-driven development, introductory agile — XP, Scrum, and Kanban, and version control strategies). \n",
    "- Co-organized TechDays, a conference series in 8 Canadian cities. Organized a conference session in 2009, led one of the developer tracks in 2010, and ran all developer tracks in 2011. \n",
    "\"\"\""
   ]
  },
  {
   "cell_type": "markdown",
   "id": "5ef83599-eb4f-4a28-bb7f-8e2e1db6cb78",
   "metadata": {},
   "source": [
    "## Provide a Job Description\n",
    "\n",
    "The application also needs a job description. It will compare the base résumé against the job description in order to generate a customized résumé.\n",
    "\n",
    "The base résumé will be stored in a constant called `BASE_RESUME`.\n",
    "\n",
    "At the meetup, we used an actual job description from LinkedIn. Feel free to copy and paste over it."
   ]
  },
  {
   "cell_type": "code",
   "execution_count": null,
   "id": "93fb7359-7d43-4e81-8fd8-0d4d96fca1d8",
   "metadata": {},
   "outputs": [],
   "source": [
    "JOB_DESCRIPTION = \"\"\"\n",
    "RunPod is pioneering the future of AI and machine learning, offering cutting-edge cloud infrastructure for full-stack AI applications. Founded in 2022, we are a rapidly growing, well-funded company with a remote-first organization spread globally. Our mission is to empower innovators and enterprises to unlock AI's true potential, driving technology and transforming industries. Join us as we shape the future of AI.\n",
    "\n",
    "The Developer Relations Team sits within the Product Team and ensures that we maintain a close connection between the RunPod community and our product. This team is dedicated to optimizing every aspect of the external developer's interaction with our products, aligning closely with RunPod's vision to be the compute backbone for AI/ML workloads at scale.\n",
    "\n",
    "Developer Experience Engineers focus on identifying developer needs or pain points and building solutions to make their RunPod experience great. You'll create tools, sample projects, templates, demos, and workflows to enhance the developer experience across our platform. Additionally, you'll maintain our open source repositories and ensure that issues and pull requests are responded to in a timely manner. In this role, you'll help shape RunPod's developer experience and ensure that developers have the resources they need to succeed.\n",
    "\n",
    "Responsibilities:\n",
    "\n",
    "- Identify developer pain points, workflow optimizations, and onboarding improvements and work with the Product team to design solutions.\n",
    "- Design and implement tooling, workflows, and sample projects to improve RunPod's developer experience.\n",
    "- Participate in design and architectural discussions with the Product team to ensure that developers are represented in new features and services.\n",
    "- Maintain open source repositories and documentation for tools, RunPod templates, and code samples.\n",
    "- Respond to issues and pull requests on open source repositories in a timely manner.\n",
    "\n",
    "Requirements:\n",
    "\n",
    "- To be successful in this role, you'll need to understand and take ownership of developers' pain points as if they were your own.\n",
    "- 6+ years of software development experience in an internal tooling, developer tooling, or developer experience role.\n",
    "- Strong understanding of a major programming language and its ecosystem (Python, Go, or Rust preferred)\n",
    "- Experience creating images and deploying with Docker\n",
    "- Experience working with Product teams to triage customer issues and create requirements for projects\n",
    "\n",
    "Preferred:\n",
    "\n",
    "- Experience with AI and ML tooling and frameworks\n",
    "- Active in one or more AI and ML communities\n",
    "- Experience with RunPod\n",
    "\"\"\""
   ]
  },
  {
   "cell_type": "markdown",
   "id": "b755a0fa",
   "metadata": {},
   "source": [
    "## Create a system prompt\n",
    "\n",
    "Next, we’ll define a system prompt, which is essentially a set of instructions that guides how the AI responds to people. Think of it as setting up the ground rules and personality for the AI before it starts a conversation.\n",
    "\n",
    "Think of a system prompt like this:\n",
    "\n",
    "1. **It's like a job description and behavioral guideline:** The system prompt tells the AI who it is, how it should behave, what tone to use, what it can and cannot discuss, and how to handle different types of questions.\n",
    "2. **It provides background knowledge:** The system prompt may include specific facts that the AI should know about itself or various topics.\n",
    "3. **It establishes boundaries:** The prompt defines what kinds of requests the AI should decline and how to politely redirect conversations when needed.\n",
    "4. **It shapes the AI's \"personality\":** Whether the AI comes across as formal, casual, detailed, concise, humorous, or serious is largely influenced by the system prompt.\n",
    "\n",
    "When you interact with an AI assistant, you're seeing the result of these behind-the-scenes instructions working together with the AI's training. The system prompt is invisible to users but shapes every response you receive.\n",
    "\n",
    "The system prompt will be stored in a constant called `SYSTEM_PROMPT`."
   ]
  },
  {
   "cell_type": "code",
   "execution_count": null,
   "id": "6ee8085d-3712-40e5-ac06-542f567ed0b2",
   "metadata": {},
   "outputs": [],
   "source": [
    "SYSTEM_PROMPT = \"\"\"\n",
    "You are an expert resume optimizer and cover letter writer designed to help job seekers present themselves\n",
    "in the best possible light for specific job opportunities. Your task is to analyze job descriptions\n",
    "and user resumes to:\n",
    "\n",
    "1. Optimize the user's resume to better align with the job description\n",
    "2. Generate a compelling, personalized cover letter\n",
    "\n",
    "Resume Optimization Guidelines\n",
    "------------------------------\n",
    "When optimizing a resume:\n",
    "\n",
    "- Maintain complete truthfulness while strategically presenting the user's experience, skills, and \n",
    "  qualifications to highlight relevance to the target position\n",
    "- Identify and incorporate key terms, skills, and qualifications from the job description\n",
    "- Reorganize content to prioritize the most relevant experiences and accomplishments\n",
    "- Enhance bullet points to emphasize achievements and quantifiable results that align with job requirements\n",
    "- Standardize formatting and improve readability\n",
    "- Suggest sections to add, expand, condense, or remove based on relevance\n",
    "- Use industry-specific terminology appropriate for the role and company\n",
    "- Ensure all changes remain faithful to the user's actual experience and qualifications\n",
    "\n",
    "Cover Letter Creation Guidelines\n",
    "--------------------------------\n",
    "When creating a cover letter:\n",
    "\n",
    "- Personalize the letter to the specific company, role, and job description\n",
    "- Begin with a compelling introduction that shows enthusiasm for the role and company\n",
    "- Highlight 3-4 of the user's most relevant experiences, skills, or achievements that directly relate\n",
    "  to key requirements in the job description\n",
    "- Draw clear connections between the user's background and the job requirements\n",
    "- Convey the user's understanding of the company's mission, values, or industry challenges when possible\n",
    "- Maintain a professional yet conversational tone appropriate for the industry and role\n",
    "- Include a strong closing paragraph that expresses interest in further discussion and includes a call to action\n",
    "- Keep the letter concise (250-400 words) and impactful\n",
    "- Provide the cover letter in a ready-to-use format that requires minimal editing\n",
    "\n",
    "Process\n",
    "-------\n",
    "1. Carefully analyze the job description to identify:\n",
    "    - Required and preferred skills, experiences, and qualifications\n",
    "    - Key responsibilities and expectations\n",
    "    - Company values and culture indicators\n",
    "    - Industry-specific terminology and keywords\n",
    "2. Review the user's resume to understand their:\n",
    "    - Professional background and progression\n",
    "    - Core competencies and specialized skills\n",
    "    - Notable achievements and impacts\n",
    "    - Education, certifications, and credentials\n",
    "3. Optimize the resume by:\n",
    "    - Recommending specific content changes with before/after examples\n",
    "    - Suggesting reorganization of information when beneficial\n",
    "    - Enhancing descriptions to incorporate relevant keywords and demonstrate alignment\n",
    "    - Providing a complete revised version that maintains truthfulness\n",
    "4. Create a tailored cover letter that:\n",
    "    - Directly addresses the hiring manager or appropriate recipient when known\n",
    "    - Strategically highlights the most relevant aspects of the user's background\n",
    "    - Demonstrates clear understanding of the position and enthusiasm for the opportunity\n",
    "    - Presents a compelling case for why the user is an excellent candidate\n",
    "    - Encourages further consideration and action from the recipient\n",
    "\n",
    "Important Considerations\n",
    "------------------------\n",
    "- Maintain absolute truthfulness – never fabricate experience, skills, or qualifications\n",
    "- Balance keyword optimization with natural language to avoid appearing artificially optimized\n",
    "- Consider both human readers and applicant tracking systems in your optimizations\n",
    "- Adapt tone and style to match the industry, role level, and company culture\n",
    "- Focus on quality over quantity in both the resume and cover letter\n",
    "- When information is limited, ask clarifying questions rather than making assumptions\n",
    "\n",
    "Always adapt your approach to the specific context of each job application while maintaining the highest standards of professionalism and truthfulness.\n",
    "\"\"\""
   ]
  },
  {
   "cell_type": "markdown",
   "id": "bcff406e",
   "metadata": {},
   "source": [
    "## Create a résumé prompt function\n",
    "\n",
    "We’ll also need a résumé prompt. It’s the user prompt -— the actual input or question that you, as a user, send to the LLM. For this app, it will be the request to customize the résumé to better match the job description.\n",
    "\n",
    "Let’s create a function that takes the base resume and the job description and outputs a user prompt asking the LLM to fine-tune the résumé."
   ]
  },
  {
   "cell_type": "code",
   "execution_count": null,
   "id": "699172ae",
   "metadata": {},
   "outputs": [],
   "source": [
    "def create_resume_prompt(base_resume, job_description):\n",
    "    return f\"\"\"\n",
    "        I need you to optimize a resume to better match a job description. The goal is to present the candidate's experience in a way that shows they're an excellent fit for the position, while remaining truthful and professional.\n",
    "\n",
    "            Here's the job description:\n",
    "            ```\n",
    "            {job_description}\n",
    "            ```\n",
    "\n",
    "            Here's the original resume in Markdown format:\n",
    "            ```\n",
    "            {base_resume}\n",
    "            ```\n",
    "\n",
    "            Please analyze the job description, identify key requirements and skills, and modify the resume to highlight relevant experience and accomplishments that match these requirements.\n",
    "\n",
    "            Rules:\n",
    "            1. Keep the same basic structure and sections of the original resume\n",
    "            2. Don't fabricate experience or qualifications that don't exist in the original\n",
    "            3. Prioritize and emphasize relevant skills and experiences\n",
    "            4. Use strong action verbs and quantify achievements where possible\n",
    "            5. Ensure the resume is clear, concise, and professional\n",
    "            6. Maintain the Markdown formatting in your response\n",
    "            7. Return ONLY the optimized resume, without any explanations\n",
    "\n",
    "            Return the optimized resume in Markdown format.\n",
    "    \"\"\""
   ]
  },
  {
   "cell_type": "markdown",
   "id": "c2269c7e-03e8-4559-ada9-c0b6ffe80de3",
   "metadata": {},
   "source": [
    "### Create a function to generate a customized resume\n",
    "\n",
    "This function will take the following inputs:\n",
    "\n",
    "1. Base résumé\n",
    "2. Job description\n",
    "3. System prompt\n",
    "4. LLM model (defaults to `\"gpt-4o-mini\"`)\n",
    "5. Temperature (defaults to `1.0`)\n",
    "\n",
    "It outputs a new résumé that is based on the base résumé, but fine-tuned to match the job description, in Markdown format. "
   ]
  },
  {
   "cell_type": "code",
   "execution_count": null,
   "id": "4a326fa1-03e6-45a2-af9e-4ad296ab2777",
   "metadata": {},
   "outputs": [],
   "source": [
    "def generate_customized_resume(\n",
    "    base_resume,\n",
    "    job_description,\n",
    "    system_prompt,\n",
    "    model=\"gpt-4o-mini\",\n",
    "    temperature=1.0\n",
    "):\n",
    "    return create_completion(\n",
    "        system_prompt,\n",
    "        create_resume_prompt(base_resume, job_description),\n",
    "        model,\n",
    "        temperature\n",
    "    )"
   ]
  },
  {
   "cell_type": "markdown",
   "id": "ac559b9c",
   "metadata": {},
   "source": [
    "Now that we have the `generate_customized_resume()` function, let’s run it and store the result in a variable named `modified_resume`. Be patient when you run it; the process will typically take 12 - 25 seconds, but can sometimes take longer."
   ]
  },
  {
   "cell_type": "code",
   "execution_count": null,
   "id": "46b44fe1",
   "metadata": {},
   "outputs": [],
   "source": [
    "print(\"Generating your customized resume...\")\n",
    "modified_resume = generate_customized_resume(BASE_RESUME, JOB_DESCRIPTION, SYSTEM_PROMPT)\n",
    "print(\"Done!\")"
   ]
  },
  {
   "cell_type": "markdown",
   "id": "9081dac4-1175-4b0c-a493-6328b06faf30",
   "metadata": {},
   "source": [
    "## Display the fine-tuned résumé and save it as a PDF\n",
    "\n",
    "First, let’s get a look at that résumé:"
   ]
  },
  {
   "cell_type": "code",
   "execution_count": null,
   "id": "aa01ecaa",
   "metadata": {},
   "outputs": [],
   "source": [
    "print(modified_resume)"
   ]
  },
  {
   "cell_type": "markdown",
   "id": "c52c3feb",
   "metadata": {},
   "source": [
    "Now let’s save it as a PDF:"
   ]
  },
  {
   "cell_type": "code",
   "execution_count": null,
   "id": "6515f8b7",
   "metadata": {},
   "outputs": [],
   "source": [
    "def save_as_pdf(text, filename):\n",
    "    text_lines = text.splitlines()\n",
    "    if text_lines[0][0:3] == \"```\":\n",
    "        del text_lines[0]\n",
    "    \n",
    "    text_for_pdf = \"\\n\".join(text_lines)\n",
    "\n",
    "    pdf = MarkdownPdf()\n",
    "    pdf.add_section(\n",
    "        Section(f\"{text_for_pdf}\")\n",
    "    )\n",
    "    try:\n",
    "        pdf.save(f\"{filename}.pdf\")\n",
    "    except Exception as pdf_exception:\n",
    "        print(f\"Error saving PDF: {pdf_exception}\")"
   ]
  },
  {
   "cell_type": "code",
   "execution_count": null,
   "id": "491cd027",
   "metadata": {},
   "outputs": [],
   "source": [
    "save_as_pdf(modified_resume, \"modified resume\")"
   ]
  },
  {
   "cell_type": "markdown",
   "id": "0c62889d-2afa-44d7-9ca3-029d2261ca89",
   "metadata": {},
   "source": [
    "## How about a cover letter?\n",
    "\n",
    "We can argue _ad infinitum_ about the value of cover letters, but let’s just concern ourselves with the fact that many job application processes _require_ a cover letter. Let’s apply the techniques we used to generate a fine-tuned résumé to generate a cover letter to go along with it. \n",
    "\n",
    "### Create a résumé prompt function\n",
    "\n",
    "First, we’ll make a function that creates one using the following inputs:\n",
    "\n",
    "- `resume`: You could use the base résumé, but it would be far better if you used the modified resume, since it’s what you’re going to provide with the cover letter.\n",
    "- `job_description`: The same job description you used for the résumé.\n",
    "- `company_name`: The name of the company to whom you’re sending the cover letter. The LLM will probably mention the company name in the cover letter it generates.\n",
    "- `recipient_name`: Optional — if you know the recipient’s name, include it here.\n",
    "- `additional_context`: If there’s anything that the LLM should know about you, your experience, or your skills that you think should be mentioned in the cover letter, include it here.\n",
    "\n",
    "It should output a prompt instructing the LLM to generate an appropriate cover letter."
   ]
  },
  {
   "cell_type": "code",
   "execution_count": null,
   "id": "d955d409",
   "metadata": {},
   "outputs": [],
   "source": [
    "def create_cover_letter_prompt(\n",
    "    resume, \n",
    "    job_description, \n",
    "    company_name, \n",
    "    recipient_name=\"Unknown\", \n",
    "    additional_context=\"\"\n",
    "):\n",
    "    return f\"\"\"\n",
    "        Context\n",
    "        -------\n",
    "        You are tasked with generating a highly personalized cover letter that connects a candidate's qualifications\n",
    "        to a specific job opportunity. Use the provided resume and job description to create a persuasive, professional\n",
    "        letter that positions the candidate as an ideal match.\n",
    "\n",
    "        Input Information\n",
    "        -----------------\n",
    "        Job Description:\n",
    "        {job_description}\n",
    "        \n",
    "        Resume:\n",
    "        {resume}\n",
    "        \n",
    "        - Company Name: {company_name}\n",
    "        - Recipient Name: {recipient_name}\n",
    "        - Additional Context: \n",
    "          {additional_context}\n",
    "        \n",
    "        Instructions\n",
    "        ------------\n",
    "        Create a tailored cover letter that:\n",
    "\n",
    "        - Opens with a compelling introduction that mentions the specific position and briefly explains the candidate's interest\n",
    "        - Identifies 2-3 key job requirements and directly connects them to specific experiences or skills from the resume\n",
    "        - Demonstrates understanding of the company's mission, values, or recent achievements (if provided)\n",
    "        - Explains why the candidate would be an excellent cultural fit based on their background and the company's environment\n",
    "        - Closes with enthusiasm for the opportunity and a clear call to action\n",
    "\n",
    "        Requirements\n",
    "        ------------\n",
    "        - Maintain a professional yet conversational tone appropriate for the industry and position level\n",
    "        - Be concise (350-450 words) and focused only on the most relevant qualifications\n",
    "        - Use concrete examples and metrics from the resume when applicable\n",
    "        - Avoid generic template language and empty flattery\n",
    "        - Structure with proper business letter formatting including date, addresses, greeting, and signature\n",
    "        - Match the candidate's experience level in language and tone (entry-level, mid-career, or executive)\n",
    "        - Emphasize transferable skills when direct experience is limited\n",
    "        - Include only truthful information present in the resume\n",
    "\n",
    "        Output Format\n",
    "        -------------\n",
    "        Return a properly formatted business letter in Markdown that includes:\n",
    "\n",
    "        - Current date\n",
    "        - Recipient's information (if provided)\n",
    "        - Professional greeting\n",
    "        - 3-4 well-structured paragraphs\n",
    "        - Professional closing\n",
    "        - Candidate's name as signature\n",
    "\n",
    "        The letter should read as if written by the candidate themselves, reflecting their genuine interest and qualifications.\n",
    "    \"\"\""
   ]
  },
  {
   "cell_type": "markdown",
   "id": "c9d94e89-5faf-462f-8b3d-ff5eff37cdb0",
   "metadata": {},
   "source": [
    "### Create a function to generate a cover letter\n",
    "\n",
    "Now that we have a cover letter prompt function, let’s create a function to actually generate the cover letter. Just as `generate_customized_resume()` is a wrapper around the `create_completion()` function to generate a résumé, this function, `generate_cover_letter()`, is the cover letter version.\n",
    "\n",
    "It takes the following inputs:\n",
    "\n",
    "1. Résumé (preferably the fine-tuned one)\n",
    "2. Job description\n",
    "3. Company name\n",
    "4. Recipient name (defaults to `\"Unknown\"`)\n",
    "5. Additional context (defaults to `\"\"`)\n",
    "6. System prompt (defaults to `SYSTEM_PROMPT`)\n",
    "7. LLM model (defaults to `\"gpt-4o-mini\"`)\n",
    "8. Temperature (defaults to `1.0`)\n",
    "\n",
    "It outputs a cover letter."
   ]
  },
  {
   "cell_type": "code",
   "execution_count": null,
   "id": "75089f38",
   "metadata": {},
   "outputs": [],
   "source": [
    "def generate_cover_letter(\n",
    "    resume,\n",
    "    job_description,\n",
    "    company_name,\n",
    "    recipient_name=\"Unknown\", \n",
    "    additional_context=\"\",\n",
    "    system_prompt=SYSTEM_PROMPT,\n",
    "    model=\"gpt-4o-mini\",\n",
    "    temperature=1.0\n",
    "):\n",
    "    return create_completion(\n",
    "        system_prompt,\n",
    "        create_cover_letter_prompt(resume, job_description, company_name, recipient_name, additional_context),\n",
    "        model,\n",
    "        temperature\n",
    "    )"
   ]
  },
  {
   "cell_type": "code",
   "execution_count": null,
   "id": "587dee84",
   "metadata": {},
   "outputs": [],
   "source": [
    "cover_letter = generate_cover_letter(\n",
    "    modified_resume, \n",
    "    JOB_DESCRIPTION, \n",
    "    \"RunPod\", \n",
    "    None, \n",
    "    \"I have 10+ years experience in Python programming.\")"
   ]
  },
  {
   "cell_type": "markdown",
   "id": "febf4db4-175e-4a9d-b469-a6290428b4c3",
   "metadata": {},
   "source": [
    "Let’s get a look at the cover letter:"
   ]
  },
  {
   "cell_type": "code",
   "execution_count": null,
   "id": "61421794",
   "metadata": {},
   "outputs": [],
   "source": [
    "print(cover_letter)"
   ]
  },
  {
   "cell_type": "markdown",
   "id": "64a86c05-5e94-4287-a0df-e71b974c8f3d",
   "metadata": {},
   "source": [
    "Let’s save that cover letter as a PDF:"
   ]
  },
  {
   "cell_type": "code",
   "execution_count": null,
   "id": "283895a3-5717-4201-a4d4-7f5a1a6cf561",
   "metadata": {},
   "outputs": [],
   "source": [
    "save_as_pdf(cover_letter, \"cover letter\")"
   ]
  },
  {
   "cell_type": "markdown",
   "id": "7d2de1f1-0450-46da-8dd1-b496c3d4d94a",
   "metadata": {},
   "source": [
    "## Scaling up\n",
    "\n",
    "<img src=\"./images/now_lets_make_it_scale.png\" width=\"800\" />\n",
    "\n",
    "Right now, we’ve got code that generates a single résumé and a single cover letter. What we _really_ need is a way to provide code with a lot of job descriptions and then have it generate résumés and cover letters for them in a single action. Let’s make that happen!\n",
    "\n",
    "### Reading a folder of job descriptions\n",
    "\n",
    "The function below, given the path for a folder (a.k.a. directory) containing Markdown files (with the `.md` filename extension), returns a dictionary where:\n",
    "\n",
    "- The **keys** are the names of the `.md` files in that folder, and\n",
    "- the **values** are the corresponding contents of those files."
   ]
  },
  {
   "cell_type": "code",
   "execution_count": null,
   "id": "5b01b718-ff72-4df2-b802-4ba8a04c0b9c",
   "metadata": {},
   "outputs": [],
   "source": [
    "def get_job_description_files_and_contents(directory_path):\n",
    "\n",
    "    markdown_contents = {}\n",
    "    \n",
    "    # Check if the directory exists\n",
    "    if not os.path.isdir(directory_path):\n",
    "        print(f\"Error: Directory '{directory_path}' does not exist.\")\n",
    "        return markdown_contents\n",
    "    \n",
    "    # Iterate through all files in the directory\n",
    "    for filename in os.listdir(directory_path):\n",
    "        # Check if the file has a .md extension\n",
    "        if filename.endswith('.md'):\n",
    "            file_path = os.path.join(directory_path, filename)\n",
    "            \n",
    "            # Read the file contents\n",
    "            try:\n",
    "                with open(file_path, 'r', encoding='utf-8') as file:\n",
    "                    markdown_contents[filename] = file.read()\n",
    "            except Exception as e:\n",
    "                print(f\"Error reading {filename}: {str(e)}\")\n",
    "    \n",
    "    return markdown_contents"
   ]
  },
  {
   "cell_type": "markdown",
   "id": "66716328-c5ed-4ed7-9103-64678c9f1de5",
   "metadata": {},
   "source": [
    "Let’s try it out on the `job descriptions` folder, which I’ve seeded with five actual job descriptions from LinkedIn (I copied them from LinkedIn and formatted them as Markdown):"
   ]
  },
  {
   "cell_type": "code",
   "execution_count": null,
   "id": "27ce4a34-7737-4e32-a930-0e0e7d2310b3",
   "metadata": {},
   "outputs": [],
   "source": [
    "print(get_job_description_files_and_contents(\"./job descriptions\"))"
   ]
  },
  {
   "cell_type": "markdown",
   "id": "17ca7d02-bab4-4855-b2f8-1ca002544809",
   "metadata": {},
   "source": [
    "### Create a function to create résumés and cover letters \n",
    "\n",
    "This function will use the `get_job_description_files_and_contents()` function to generate a dictionary of resumes and cover letters where:\n",
    "\n",
    "- The **keys** are the names of the company and the position being applied for, and \n",
    "- the **values** are dictionaries, each one containing a dictionary with the following key-value pairs:\n",
    "    - `\"resume\"`\n",
    "    - `\"cover_letter\"` "
   ]
  },
  {
   "cell_type": "code",
   "execution_count": null,
   "id": "d0557749",
   "metadata": {},
   "outputs": [],
   "source": [
    "def create_resumes_and_cover_letters(base_resume, job_description_files):\n",
    "    resumes_and_cover_letters = {}\n",
    "\n",
    "    job_description_files = get_job_description_files_and_contents(job_description_files)\n",
    "\n",
    "    for job_description_file in job_description_files:\n",
    "        company_name, position = job_description_file.split(\"--\")\n",
    "        company_name = company_name.strip()\n",
    "        position = position.replace(\".md\", \"\").strip()\n",
    "        job_description = job_description_files[job_description_file]\n",
    "\n",
    "        print(f\"Generating customized resume and cover letter for {company_name} -- {position}...\")\n",
    "\n",
    "        resume = generate_customized_resume(base_resume, job_description, SYSTEM_PROMPT)\n",
    "        cover_letter = generate_cover_letter(modified_resume, job_description, position, \"Hiring Manager\")\n",
    "        resume_and_cover_letter = {\"resume\": resume, \"cover_letter\": cover_letter}\n",
    "        resumes_and_cover_letters[f\"{company_name} -- {position}\"] = resume_and_cover_letter\n",
    "\n",
    "    print(\"Done!\")\n",
    "    return resumes_and_cover_letters"
   ]
  },
  {
   "cell_type": "markdown",
   "id": "2e8e2c03-792c-4fee-bde5-83df5bcdfb8d",
   "metadata": {},
   "source": [
    "Now that we have the `create_resumes_and_cover_letters()` function, let’s use it!"
   ]
  },
  {
   "cell_type": "code",
   "execution_count": null,
   "id": "e0b61d95",
   "metadata": {},
   "outputs": [],
   "source": [
    "resumes_and_cover_letters = create_resumes_and_cover_letters(BASE_RESUME, \"./job descriptions\")"
   ]
  },
  {
   "cell_type": "markdown",
   "id": "5b1e71b5-2923-4869-b0d2-2cd3c0b3d963",
   "metadata": {},
   "source": [
    "Once `create_resumes_and_cover_letters()` has done its thing, let’s look at what it generated:"
   ]
  },
  {
   "cell_type": "code",
   "execution_count": null,
   "id": "d951e235",
   "metadata": {},
   "outputs": [],
   "source": [
    "print(resumes_and_cover_letters)"
   ]
  },
  {
   "cell_type": "markdown",
   "id": "9ffdd895-e39c-41f6-abaa-b840e9d30f1b",
   "metadata": {},
   "source": [
    "That’s a lot of stuff. Let’s look at just the keys:"
   ]
  },
  {
   "cell_type": "code",
   "execution_count": null,
   "id": "bfbe3f87",
   "metadata": {},
   "outputs": [],
   "source": [
    "print(resumes_and_cover_letters.keys())"
   ]
  },
  {
   "cell_type": "markdown",
   "id": "f91ec5d5-fe5b-43b5-8cd5-1579b6a0b53b",
   "metadata": {},
   "source": [
    "Let’s get a look at the résumé generated for that Senior Developer Advocate position at Datadog:"
   ]
  },
  {
   "cell_type": "code",
   "execution_count": null,
   "id": "bd6245b1",
   "metadata": {},
   "outputs": [],
   "source": [
    "print(resumes_and_cover_letters['Datadog -- Senior Developer Advocate - Technical Storytelling']['resume'])"
   ]
  },
  {
   "cell_type": "markdown",
   "id": "8fd0cdf2-f155-44f9-bbd6-63541ba46c19",
   "metadata": {},
   "source": [
    "Now let’s look at the matching cover letter:"
   ]
  },
  {
   "cell_type": "code",
   "execution_count": null,
   "id": "38cb8135",
   "metadata": {},
   "outputs": [],
   "source": [
    "print(resumes_and_cover_letters['Datadog -- Senior Developer Advocate - Technical Storytelling']['cover_letter'])"
   ]
  },
  {
   "cell_type": "markdown",
   "id": "f5969087-0aee-4e07-8a5c-3cd91eee78b2",
   "metadata": {},
   "source": [
    "And finally, let’s turn them all into PDFs:"
   ]
  },
  {
   "cell_type": "code",
   "execution_count": null,
   "id": "a1fb4460-1f60-4fb3-ad3f-81ed05fcd03c",
   "metadata": {},
   "outputs": [],
   "source": [
    "for item in resumes_and_cover_letters:\n",
    "    save_as_pdf(resumes_and_cover_letters[item][\"resume\"], f\"./output/{item} resume\")\n",
    "    save_as_pdf(resumes_and_cover_letters[item][\"cover_letter\"], f\"./output/{item} cover letter\")"
   ]
  },
  {
   "cell_type": "code",
   "execution_count": null,
   "id": "acaab1e7-377a-44dd-aa77-aa2303bbab17",
   "metadata": {},
   "outputs": [],
   "source": []
  }
 ],
 "metadata": {
  "kernelspec": {
   "display_name": "Python 3",
   "language": "python",
   "name": "python3"
  },
  "language_info": {
   "codemirror_mode": {
    "name": "ipython",
    "version": 3
   },
   "file_extension": ".py",
   "mimetype": "text/x-python",
   "name": "python",
   "nbconvert_exporter": "python",
   "pygments_lexer": "ipython3",
   "version": "3.12.4"
  }
 },
 "nbformat": 4,
 "nbformat_minor": 5
}
